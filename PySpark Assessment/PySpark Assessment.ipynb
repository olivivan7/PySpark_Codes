{
  "cells": [
    {
      "cell_type": "markdown",
      "source": [
        "# Assessment 1 - PySpark Dataframe"
      ],
      "metadata": {
        "id": "vLIW0mc6IbTN"
      }
    },
    {
      "cell_type": "code",
      "source": [
        "\"\"\"\n",
        "Dataset Description:\n",
        "1. age\tnumeric\n",
        "2. job\ttype of job (categorical: 'admin.','blue-collar','entrepreneur','housemaid','management','retired','self-employed','services','student','technician','unemployed','unknown')\n",
        "3. marital status (categorical: 'divorced', 'married', 'single', 'unknown'; note: 'divorced' means divorced or widowed)\n",
        "4. education\t(categorical: 'basic.4y','basic.6y','basic.9y','high.school','illiterate','professional.course','university.degree','unknown')\n",
        "5. default: has credit in default? (categorical: 'no', 'yes', 'unknown')\n",
        "6. balance\n",
        "7. housing: has housing loan? (categorical: 'no', 'yes', 'unknown')\n",
        "8. loan has a personal loan? (categorical: 'no', 'yes', 'unknown')\n",
        "\n",
        "# related to the last contact of the current campaign:\n",
        "9. contact communication type (categorical: 'cellular', 'telephone')\n",
        "10. month Month of last contact (categorical: 'jan', 'feb', 'mar', ..., 'nov', 'dec')\n",
        "11. day_of_the_month last contact day of the week (integer)\n",
        "12. duration last contact duration, in seconds (numeric).\n",
        "\n",
        "#Important note: this attribute highly affects the output target (example, if duration=0 then y='no').\n",
        "#Yet, the duration is not known before a call is performed. Also, after the end of the call “y” is obviously known.\n",
        "#Thus, this input should only be included for benchmark purposes and should be discarded if the intention is to have a realistic predictive model.\n",
        "\n",
        "# other attributes:\n",
        "13.\tcampaign: number of times a customer was contacted during the campaign (numeric, includes last contact)\n",
        "14.\tpdays: number of days passed after the customer was last contacted from a previous campaign (numeric; -1 means customer was not previously contacted)\n",
        "15.\tprevious: number of times the customer was contacted prior to (or before) this campaign (numeric)\n",
        "16.\tpoutcome: outcome of the previous marketing campaign (categorical: 'failure', 'nonexistent', 'success')\n",
        "17. deposit: has the customer subscribed a term deposit? (binary: 'yes', 'no')\n",
        "\n",
        "Analysis tasks that the marketing team has asked you to perform:\n",
        "1.[ok]\tLoad data and create a Spark data frame \n",
        "2.[ok]\tGive marketing success rate (No. of people subscribed / total no. of entries)   \n",
        "3.[ok]\tGive marketing failure rate\n",
        "4.[ok]\tGive the maximum, mean, and minimum age of the targeted customer\n",
        "5.[ok]\tCheck the quality of customers by checking average balance, median balance of customers\n",
        "6.[ok]\tCheck if age matters in marketing subscription for deposit\n",
        "7.[ok]\tCheck if marital status mattered for a subscription to deposit\n",
        "8.[ok]\tCheck if age and marital status together mattered for a subscription to deposit scheme\n",
        "9.[ok]\tDo feature engineering for the bank and find the right age effect on the campaign\n",
        "\n",
        "\"\"\"\n"
      ],
      "metadata": {
        "id": "2dc0_cLEC1SS",
        "colab": {
          "base_uri": "https://localhost:8080/",
          "height": 105
        },
        "outputId": "c1e4e96b-3ca2-45d5-fa07-57cff7fbf578"
      },
      "execution_count": 157,
      "outputs": [
        {
          "output_type": "execute_result",
          "data": {
            "application/vnd.google.colaboratory.intrinsic+json": {
              "type": "string"
            },
            "text/plain": [
              "\"\\nDataset Description:\\n1. age\\tnumeric\\n2. job\\ttype of job (categorical: 'admin.','blue-collar','entrepreneur','housemaid','management','retired','self-employed','services','student','technician','unemployed','unknown')\\n3. marital status (categorical: 'divorced', 'married', 'single', 'unknown'; note: 'divorced' means divorced or widowed)\\n4. education\\t(categorical: 'basic.4y','basic.6y','basic.9y','high.school','illiterate','professional.course','university.degree','unknown')\\n5. default: has credit in default? (categorical: 'no', 'yes', 'unknown')\\n6. balance\\n7. housing: has housing loan? (categorical: 'no', 'yes', 'unknown')\\n8. loan has a personal loan? (categorical: 'no', 'yes', 'unknown')\\n\\n# related to the last contact of the current campaign:\\n9. contact communication type (categorical: 'cellular', 'telephone')\\n10. month Month of last contact (categorical: 'jan', 'feb', 'mar', ..., 'nov', 'dec')\\n11. day_of_the_month last contact day of the week (integer)\\n12. duration last contact duration, in seconds (numeric).\\n\\n#Important note: this attribute highly affects the output target (example, if duration=0 then y='no').\\n#Yet, the duration is not known before a call is performed. Also, after the end of the call “y” is obviously known.\\n#Thus, this input should only be included for benchmark purposes and should be discarded if the intention is to have a realistic predictive model.\\n\\n# other attributes:\\n13.\\tcampaign: number of times a customer was contacted during the campaign (numeric, includes last contact)\\n14.\\tpdays: number of days passed after the customer was last contacted from a previous campaign (numeric; -1 means customer was not previously contacted)\\n15.\\tprevious: number of times the customer was contacted prior to (or before) this campaign (numeric)\\n16.\\tpoutcome: outcome of the previous marketing campaign (categorical: 'failure', 'nonexistent', 'success')\\n17. deposit: has the customer subscribed a term deposit? (binary: 'yes', 'no')\\n\\nAnalysis tasks that the marketing team has asked you to perform:\\n1.[ok]\\tLoad data and create a Spark data frame \\n2.[ok]\\tGive marketing success rate (No. of people subscribed / total no. of entries)   \\n3.[ok]\\tGive marketing failure rate\\n4.[ok]\\tGive the maximum, mean, and minimum age of the targeted customer\\n5.[ok]\\tCheck the quality of customers by checking average balance, median balance of customers\\n6.[ok]\\tCheck if age matters in marketing subscription for deposit\\n7.[ok]\\tCheck if marital status mattered for a subscription to deposit\\n8.[ok]\\tCheck if age and marital status together mattered for a subscription to deposit scheme\\n9.[ok]\\tDo feature engineering for the bank and find the right age effect on the campaign\\n\\n\""
            ]
          },
          "metadata": {},
          "execution_count": 157
        }
      ]
    },
    {
      "cell_type": "markdown",
      "source": [
        "# Installing PySpark"
      ],
      "metadata": {
        "id": "1xhH3DIKI--T"
      }
    },
    {
      "cell_type": "code",
      "source": [
        "pip install pyspark"
      ],
      "metadata": {
        "id": "7qjH10MT1lZN",
        "colab": {
          "base_uri": "https://localhost:8080/"
        },
        "outputId": "e1bc85c2-ea49-4ab4-dfa3-989ea67cfaf2"
      },
      "execution_count": 158,
      "outputs": [
        {
          "output_type": "stream",
          "name": "stdout",
          "text": [
            "Requirement already satisfied: pyspark in /usr/local/lib/python3.7/dist-packages (3.2.1)\n",
            "Requirement already satisfied: py4j==0.10.9.3 in /usr/local/lib/python3.7/dist-packages (from pyspark) (0.10.9.3)\n"
          ]
        }
      ]
    },
    {
      "cell_type": "markdown",
      "source": [
        "# Importing libraries"
      ],
      "metadata": {
        "id": "zs95XtzVJScq"
      }
    },
    {
      "cell_type": "code",
      "execution_count": 159,
      "metadata": {
        "id": "Rya7YOIM0voR"
      },
      "outputs": [],
      "source": [
        "import pandas as pd\n",
        "import numpy as np\n",
        "import pyspark\n",
        "import matplotlib.pyplot as plt\n",
        "from pyspark.sql import SparkSession\n",
        "from pyspark.sql.types import *\n",
        "from pyspark.sql.functions import col,array_contains, count, isnan, when\n",
        "from pyspark.mllib.feature import StandardScaler,PCA\n",
        "from pyspark.mllib.stat import Statistics\n",
        "from pyspark.ml.feature import VectorAssembler\n"
      ]
    },
    {
      "cell_type": "markdown",
      "source": [
        "# Pandas Data Frame"
      ],
      "metadata": {
        "id": "w4jCGEWTlEoe"
      }
    },
    {
      "cell_type": "code",
      "source": [
        "data = pd.read_csv('Project 1_dataset.csv')\n",
        "data.head()"
      ],
      "metadata": {
        "colab": {
          "base_uri": "https://localhost:8080/",
          "height": 206
        },
        "id": "GSC86AVeg19l",
        "outputId": "df7ed362-1848-4f6c-93c2-d06d42a1fdcd"
      },
      "execution_count": 160,
      "outputs": [
        {
          "output_type": "execute_result",
          "data": {
            "text/html": [
              "\n",
              "  <div id=\"df-8939c323-975d-4c60-83db-decbcf9d1dd7\">\n",
              "    <div class=\"colab-df-container\">\n",
              "      <div>\n",
              "<style scoped>\n",
              "    .dataframe tbody tr th:only-of-type {\n",
              "        vertical-align: middle;\n",
              "    }\n",
              "\n",
              "    .dataframe tbody tr th {\n",
              "        vertical-align: top;\n",
              "    }\n",
              "\n",
              "    .dataframe thead th {\n",
              "        text-align: right;\n",
              "    }\n",
              "</style>\n",
              "<table border=\"1\" class=\"dataframe\">\n",
              "  <thead>\n",
              "    <tr style=\"text-align: right;\">\n",
              "      <th></th>\n",
              "      <th>age</th>\n",
              "      <th>job</th>\n",
              "      <th>marital</th>\n",
              "      <th>education</th>\n",
              "      <th>default</th>\n",
              "      <th>balance</th>\n",
              "      <th>housing</th>\n",
              "      <th>loan</th>\n",
              "      <th>contact</th>\n",
              "      <th>day</th>\n",
              "      <th>month</th>\n",
              "      <th>duration</th>\n",
              "      <th>campaign</th>\n",
              "      <th>pdays</th>\n",
              "      <th>previous</th>\n",
              "      <th>poutcome</th>\n",
              "      <th>deposit</th>\n",
              "    </tr>\n",
              "  </thead>\n",
              "  <tbody>\n",
              "    <tr>\n",
              "      <th>0</th>\n",
              "      <td>95</td>\n",
              "      <td>retired</td>\n",
              "      <td>married</td>\n",
              "      <td>secondary</td>\n",
              "      <td>0</td>\n",
              "      <td>0</td>\n",
              "      <td>0</td>\n",
              "      <td>0</td>\n",
              "      <td>telephone</td>\n",
              "      <td>1</td>\n",
              "      <td>oct</td>\n",
              "      <td>215</td>\n",
              "      <td>1</td>\n",
              "      <td>-1</td>\n",
              "      <td>0</td>\n",
              "      <td>success</td>\n",
              "      <td>1</td>\n",
              "    </tr>\n",
              "    <tr>\n",
              "      <th>1</th>\n",
              "      <td>93</td>\n",
              "      <td>retired</td>\n",
              "      <td>married</td>\n",
              "      <td>unknown</td>\n",
              "      <td>0</td>\n",
              "      <td>775</td>\n",
              "      <td>0</td>\n",
              "      <td>0</td>\n",
              "      <td>cellular</td>\n",
              "      <td>4</td>\n",
              "      <td>aug</td>\n",
              "      <td>476</td>\n",
              "      <td>2</td>\n",
              "      <td>13</td>\n",
              "      <td>9</td>\n",
              "      <td>success</td>\n",
              "      <td>1</td>\n",
              "    </tr>\n",
              "    <tr>\n",
              "      <th>2</th>\n",
              "      <td>93</td>\n",
              "      <td>retired</td>\n",
              "      <td>married</td>\n",
              "      <td>unknown</td>\n",
              "      <td>0</td>\n",
              "      <td>775</td>\n",
              "      <td>0</td>\n",
              "      <td>0</td>\n",
              "      <td>cellular</td>\n",
              "      <td>22</td>\n",
              "      <td>jul</td>\n",
              "      <td>860</td>\n",
              "      <td>2</td>\n",
              "      <td>177</td>\n",
              "      <td>7</td>\n",
              "      <td>failure</td>\n",
              "      <td>0</td>\n",
              "    </tr>\n",
              "    <tr>\n",
              "      <th>3</th>\n",
              "      <td>92</td>\n",
              "      <td>retired</td>\n",
              "      <td>married</td>\n",
              "      <td>unknown</td>\n",
              "      <td>0</td>\n",
              "      <td>775</td>\n",
              "      <td>0</td>\n",
              "      <td>0</td>\n",
              "      <td>cellular</td>\n",
              "      <td>22</td>\n",
              "      <td>oct</td>\n",
              "      <td>313</td>\n",
              "      <td>3</td>\n",
              "      <td>-1</td>\n",
              "      <td>0</td>\n",
              "      <td>failure</td>\n",
              "      <td>0</td>\n",
              "    </tr>\n",
              "    <tr>\n",
              "      <th>4</th>\n",
              "      <td>92</td>\n",
              "      <td>retired</td>\n",
              "      <td>married</td>\n",
              "      <td>unknown</td>\n",
              "      <td>0</td>\n",
              "      <td>775</td>\n",
              "      <td>0</td>\n",
              "      <td>0</td>\n",
              "      <td>telephone</td>\n",
              "      <td>26</td>\n",
              "      <td>jan</td>\n",
              "      <td>164</td>\n",
              "      <td>4</td>\n",
              "      <td>96</td>\n",
              "      <td>3</td>\n",
              "      <td>nonexistent</td>\n",
              "      <td>0</td>\n",
              "    </tr>\n",
              "  </tbody>\n",
              "</table>\n",
              "</div>\n",
              "      <button class=\"colab-df-convert\" onclick=\"convertToInteractive('df-8939c323-975d-4c60-83db-decbcf9d1dd7')\"\n",
              "              title=\"Convert this dataframe to an interactive table.\"\n",
              "              style=\"display:none;\">\n",
              "        \n",
              "  <svg xmlns=\"http://www.w3.org/2000/svg\" height=\"24px\"viewBox=\"0 0 24 24\"\n",
              "       width=\"24px\">\n",
              "    <path d=\"M0 0h24v24H0V0z\" fill=\"none\"/>\n",
              "    <path d=\"M18.56 5.44l.94 2.06.94-2.06 2.06-.94-2.06-.94-.94-2.06-.94 2.06-2.06.94zm-11 1L8.5 8.5l.94-2.06 2.06-.94-2.06-.94L8.5 2.5l-.94 2.06-2.06.94zm10 10l.94 2.06.94-2.06 2.06-.94-2.06-.94-.94-2.06-.94 2.06-2.06.94z\"/><path d=\"M17.41 7.96l-1.37-1.37c-.4-.4-.92-.59-1.43-.59-.52 0-1.04.2-1.43.59L10.3 9.45l-7.72 7.72c-.78.78-.78 2.05 0 2.83L4 21.41c.39.39.9.59 1.41.59.51 0 1.02-.2 1.41-.59l7.78-7.78 2.81-2.81c.8-.78.8-2.07 0-2.86zM5.41 20L4 18.59l7.72-7.72 1.47 1.35L5.41 20z\"/>\n",
              "  </svg>\n",
              "      </button>\n",
              "      \n",
              "  <style>\n",
              "    .colab-df-container {\n",
              "      display:flex;\n",
              "      flex-wrap:wrap;\n",
              "      gap: 12px;\n",
              "    }\n",
              "\n",
              "    .colab-df-convert {\n",
              "      background-color: #E8F0FE;\n",
              "      border: none;\n",
              "      border-radius: 50%;\n",
              "      cursor: pointer;\n",
              "      display: none;\n",
              "      fill: #1967D2;\n",
              "      height: 32px;\n",
              "      padding: 0 0 0 0;\n",
              "      width: 32px;\n",
              "    }\n",
              "\n",
              "    .colab-df-convert:hover {\n",
              "      background-color: #E2EBFA;\n",
              "      box-shadow: 0px 1px 2px rgba(60, 64, 67, 0.3), 0px 1px 3px 1px rgba(60, 64, 67, 0.15);\n",
              "      fill: #174EA6;\n",
              "    }\n",
              "\n",
              "    [theme=dark] .colab-df-convert {\n",
              "      background-color: #3B4455;\n",
              "      fill: #D2E3FC;\n",
              "    }\n",
              "\n",
              "    [theme=dark] .colab-df-convert:hover {\n",
              "      background-color: #434B5C;\n",
              "      box-shadow: 0px 1px 3px 1px rgba(0, 0, 0, 0.15);\n",
              "      filter: drop-shadow(0px 1px 2px rgba(0, 0, 0, 0.3));\n",
              "      fill: #FFFFFF;\n",
              "    }\n",
              "  </style>\n",
              "\n",
              "      <script>\n",
              "        const buttonEl =\n",
              "          document.querySelector('#df-8939c323-975d-4c60-83db-decbcf9d1dd7 button.colab-df-convert');\n",
              "        buttonEl.style.display =\n",
              "          google.colab.kernel.accessAllowed ? 'block' : 'none';\n",
              "\n",
              "        async function convertToInteractive(key) {\n",
              "          const element = document.querySelector('#df-8939c323-975d-4c60-83db-decbcf9d1dd7');\n",
              "          const dataTable =\n",
              "            await google.colab.kernel.invokeFunction('convertToInteractive',\n",
              "                                                     [key], {});\n",
              "          if (!dataTable) return;\n",
              "\n",
              "          const docLinkHtml = 'Like what you see? Visit the ' +\n",
              "            '<a target=\"_blank\" href=https://colab.research.google.com/notebooks/data_table.ipynb>data table notebook</a>'\n",
              "            + ' to learn more about interactive tables.';\n",
              "          element.innerHTML = '';\n",
              "          dataTable['output_type'] = 'display_data';\n",
              "          await google.colab.output.renderOutput(dataTable, element);\n",
              "          const docLink = document.createElement('div');\n",
              "          docLink.innerHTML = docLinkHtml;\n",
              "          element.appendChild(docLink);\n",
              "        }\n",
              "      </script>\n",
              "    </div>\n",
              "  </div>\n",
              "  "
            ],
            "text/plain": [
              "   age      job  marital  education  ...  pdays  previous     poutcome  deposit\n",
              "0   95  retired  married  secondary  ...     -1         0      success        1\n",
              "1   93  retired  married    unknown  ...     13         9      success        1\n",
              "2   93  retired  married    unknown  ...    177         7      failure        0\n",
              "3   92  retired  married    unknown  ...     -1         0      failure        0\n",
              "4   92  retired  married    unknown  ...     96         3  nonexistent        0\n",
              "\n",
              "[5 rows x 17 columns]"
            ]
          },
          "metadata": {},
          "execution_count": 160
        }
      ]
    },
    {
      "cell_type": "code",
      "source": [
        "data.describe()"
      ],
      "metadata": {
        "colab": {
          "base_uri": "https://localhost:8080/",
          "height": 300
        },
        "id": "BXribl9c2kPB",
        "outputId": "d4daff44-00fb-4c9b-8670-f6f91be8d7ce"
      },
      "execution_count": 161,
      "outputs": [
        {
          "output_type": "execute_result",
          "data": {
            "text/html": [
              "\n",
              "  <div id=\"df-cd8af33f-80c6-49f1-bd7e-d5a41774f253\">\n",
              "    <div class=\"colab-df-container\">\n",
              "      <div>\n",
              "<style scoped>\n",
              "    .dataframe tbody tr th:only-of-type {\n",
              "        vertical-align: middle;\n",
              "    }\n",
              "\n",
              "    .dataframe tbody tr th {\n",
              "        vertical-align: top;\n",
              "    }\n",
              "\n",
              "    .dataframe thead th {\n",
              "        text-align: right;\n",
              "    }\n",
              "</style>\n",
              "<table border=\"1\" class=\"dataframe\">\n",
              "  <thead>\n",
              "    <tr style=\"text-align: right;\">\n",
              "      <th></th>\n",
              "      <th>age</th>\n",
              "      <th>default</th>\n",
              "      <th>balance</th>\n",
              "      <th>housing</th>\n",
              "      <th>loan</th>\n",
              "      <th>day</th>\n",
              "      <th>duration</th>\n",
              "      <th>campaign</th>\n",
              "      <th>pdays</th>\n",
              "      <th>previous</th>\n",
              "      <th>deposit</th>\n",
              "    </tr>\n",
              "  </thead>\n",
              "  <tbody>\n",
              "    <tr>\n",
              "      <th>count</th>\n",
              "      <td>45211.000000</td>\n",
              "      <td>45211.000000</td>\n",
              "      <td>45211.000000</td>\n",
              "      <td>45211.000000</td>\n",
              "      <td>45211.000000</td>\n",
              "      <td>45211.000000</td>\n",
              "      <td>45211.000000</td>\n",
              "      <td>45211.000000</td>\n",
              "      <td>45211.000000</td>\n",
              "      <td>45211.000000</td>\n",
              "      <td>45211.000000</td>\n",
              "    </tr>\n",
              "    <tr>\n",
              "      <th>mean</th>\n",
              "      <td>40.936210</td>\n",
              "      <td>0.018027</td>\n",
              "      <td>1362.272058</td>\n",
              "      <td>0.555838</td>\n",
              "      <td>0.160226</td>\n",
              "      <td>15.806419</td>\n",
              "      <td>258.163080</td>\n",
              "      <td>2.763841</td>\n",
              "      <td>40.197828</td>\n",
              "      <td>0.580323</td>\n",
              "      <td>0.336666</td>\n",
              "    </tr>\n",
              "    <tr>\n",
              "      <th>std</th>\n",
              "      <td>10.618762</td>\n",
              "      <td>0.133049</td>\n",
              "      <td>3044.765829</td>\n",
              "      <td>0.496878</td>\n",
              "      <td>0.366820</td>\n",
              "      <td>8.322476</td>\n",
              "      <td>257.527812</td>\n",
              "      <td>3.098021</td>\n",
              "      <td>100.128746</td>\n",
              "      <td>2.303441</td>\n",
              "      <td>0.472575</td>\n",
              "    </tr>\n",
              "    <tr>\n",
              "      <th>min</th>\n",
              "      <td>18.000000</td>\n",
              "      <td>0.000000</td>\n",
              "      <td>-8019.000000</td>\n",
              "      <td>0.000000</td>\n",
              "      <td>0.000000</td>\n",
              "      <td>1.000000</td>\n",
              "      <td>0.000000</td>\n",
              "      <td>1.000000</td>\n",
              "      <td>-1.000000</td>\n",
              "      <td>0.000000</td>\n",
              "      <td>0.000000</td>\n",
              "    </tr>\n",
              "    <tr>\n",
              "      <th>25%</th>\n",
              "      <td>33.000000</td>\n",
              "      <td>0.000000</td>\n",
              "      <td>72.000000</td>\n",
              "      <td>0.000000</td>\n",
              "      <td>0.000000</td>\n",
              "      <td>8.000000</td>\n",
              "      <td>103.000000</td>\n",
              "      <td>1.000000</td>\n",
              "      <td>-1.000000</td>\n",
              "      <td>0.000000</td>\n",
              "      <td>0.000000</td>\n",
              "    </tr>\n",
              "    <tr>\n",
              "      <th>50%</th>\n",
              "      <td>39.000000</td>\n",
              "      <td>0.000000</td>\n",
              "      <td>448.000000</td>\n",
              "      <td>1.000000</td>\n",
              "      <td>0.000000</td>\n",
              "      <td>16.000000</td>\n",
              "      <td>180.000000</td>\n",
              "      <td>2.000000</td>\n",
              "      <td>-1.000000</td>\n",
              "      <td>0.000000</td>\n",
              "      <td>0.000000</td>\n",
              "    </tr>\n",
              "    <tr>\n",
              "      <th>75%</th>\n",
              "      <td>48.000000</td>\n",
              "      <td>0.000000</td>\n",
              "      <td>1428.000000</td>\n",
              "      <td>1.000000</td>\n",
              "      <td>0.000000</td>\n",
              "      <td>21.000000</td>\n",
              "      <td>319.000000</td>\n",
              "      <td>3.000000</td>\n",
              "      <td>-1.000000</td>\n",
              "      <td>0.000000</td>\n",
              "      <td>1.000000</td>\n",
              "    </tr>\n",
              "    <tr>\n",
              "      <th>max</th>\n",
              "      <td>95.000000</td>\n",
              "      <td>1.000000</td>\n",
              "      <td>102127.000000</td>\n",
              "      <td>1.000000</td>\n",
              "      <td>1.000000</td>\n",
              "      <td>31.000000</td>\n",
              "      <td>4918.000000</td>\n",
              "      <td>63.000000</td>\n",
              "      <td>871.000000</td>\n",
              "      <td>275.000000</td>\n",
              "      <td>1.000000</td>\n",
              "    </tr>\n",
              "  </tbody>\n",
              "</table>\n",
              "</div>\n",
              "      <button class=\"colab-df-convert\" onclick=\"convertToInteractive('df-cd8af33f-80c6-49f1-bd7e-d5a41774f253')\"\n",
              "              title=\"Convert this dataframe to an interactive table.\"\n",
              "              style=\"display:none;\">\n",
              "        \n",
              "  <svg xmlns=\"http://www.w3.org/2000/svg\" height=\"24px\"viewBox=\"0 0 24 24\"\n",
              "       width=\"24px\">\n",
              "    <path d=\"M0 0h24v24H0V0z\" fill=\"none\"/>\n",
              "    <path d=\"M18.56 5.44l.94 2.06.94-2.06 2.06-.94-2.06-.94-.94-2.06-.94 2.06-2.06.94zm-11 1L8.5 8.5l.94-2.06 2.06-.94-2.06-.94L8.5 2.5l-.94 2.06-2.06.94zm10 10l.94 2.06.94-2.06 2.06-.94-2.06-.94-.94-2.06-.94 2.06-2.06.94z\"/><path d=\"M17.41 7.96l-1.37-1.37c-.4-.4-.92-.59-1.43-.59-.52 0-1.04.2-1.43.59L10.3 9.45l-7.72 7.72c-.78.78-.78 2.05 0 2.83L4 21.41c.39.39.9.59 1.41.59.51 0 1.02-.2 1.41-.59l7.78-7.78 2.81-2.81c.8-.78.8-2.07 0-2.86zM5.41 20L4 18.59l7.72-7.72 1.47 1.35L5.41 20z\"/>\n",
              "  </svg>\n",
              "      </button>\n",
              "      \n",
              "  <style>\n",
              "    .colab-df-container {\n",
              "      display:flex;\n",
              "      flex-wrap:wrap;\n",
              "      gap: 12px;\n",
              "    }\n",
              "\n",
              "    .colab-df-convert {\n",
              "      background-color: #E8F0FE;\n",
              "      border: none;\n",
              "      border-radius: 50%;\n",
              "      cursor: pointer;\n",
              "      display: none;\n",
              "      fill: #1967D2;\n",
              "      height: 32px;\n",
              "      padding: 0 0 0 0;\n",
              "      width: 32px;\n",
              "    }\n",
              "\n",
              "    .colab-df-convert:hover {\n",
              "      background-color: #E2EBFA;\n",
              "      box-shadow: 0px 1px 2px rgba(60, 64, 67, 0.3), 0px 1px 3px 1px rgba(60, 64, 67, 0.15);\n",
              "      fill: #174EA6;\n",
              "    }\n",
              "\n",
              "    [theme=dark] .colab-df-convert {\n",
              "      background-color: #3B4455;\n",
              "      fill: #D2E3FC;\n",
              "    }\n",
              "\n",
              "    [theme=dark] .colab-df-convert:hover {\n",
              "      background-color: #434B5C;\n",
              "      box-shadow: 0px 1px 3px 1px rgba(0, 0, 0, 0.15);\n",
              "      filter: drop-shadow(0px 1px 2px rgba(0, 0, 0, 0.3));\n",
              "      fill: #FFFFFF;\n",
              "    }\n",
              "  </style>\n",
              "\n",
              "      <script>\n",
              "        const buttonEl =\n",
              "          document.querySelector('#df-cd8af33f-80c6-49f1-bd7e-d5a41774f253 button.colab-df-convert');\n",
              "        buttonEl.style.display =\n",
              "          google.colab.kernel.accessAllowed ? 'block' : 'none';\n",
              "\n",
              "        async function convertToInteractive(key) {\n",
              "          const element = document.querySelector('#df-cd8af33f-80c6-49f1-bd7e-d5a41774f253');\n",
              "          const dataTable =\n",
              "            await google.colab.kernel.invokeFunction('convertToInteractive',\n",
              "                                                     [key], {});\n",
              "          if (!dataTable) return;\n",
              "\n",
              "          const docLinkHtml = 'Like what you see? Visit the ' +\n",
              "            '<a target=\"_blank\" href=https://colab.research.google.com/notebooks/data_table.ipynb>data table notebook</a>'\n",
              "            + ' to learn more about interactive tables.';\n",
              "          element.innerHTML = '';\n",
              "          dataTable['output_type'] = 'display_data';\n",
              "          await google.colab.output.renderOutput(dataTable, element);\n",
              "          const docLink = document.createElement('div');\n",
              "          docLink.innerHTML = docLinkHtml;\n",
              "          element.appendChild(docLink);\n",
              "        }\n",
              "      </script>\n",
              "    </div>\n",
              "  </div>\n",
              "  "
            ],
            "text/plain": [
              "                age       default  ...      previous       deposit\n",
              "count  45211.000000  45211.000000  ...  45211.000000  45211.000000\n",
              "mean      40.936210      0.018027  ...      0.580323      0.336666\n",
              "std       10.618762      0.133049  ...      2.303441      0.472575\n",
              "min       18.000000      0.000000  ...      0.000000      0.000000\n",
              "25%       33.000000      0.000000  ...      0.000000      0.000000\n",
              "50%       39.000000      0.000000  ...      0.000000      0.000000\n",
              "75%       48.000000      0.000000  ...      0.000000      1.000000\n",
              "max       95.000000      1.000000  ...    275.000000      1.000000\n",
              "\n",
              "[8 rows x 11 columns]"
            ]
          },
          "metadata": {},
          "execution_count": 161
        }
      ]
    },
    {
      "cell_type": "markdown",
      "source": [
        "# Initializing SparkSession"
      ],
      "metadata": {
        "id": "lj0IbYzPJYeu"
      }
    },
    {
      "cell_type": "code",
      "execution_count": 162,
      "metadata": {
        "id": "ThtqiSNI0voS"
      },
      "outputs": [],
      "source": [
        "spark = SparkSession.builder.getOrCreate()\n",
        "sc = spark.sparkContext\n"
      ]
    },
    {
      "cell_type": "markdown",
      "source": [
        "# Reading CSV file and formating spark schema"
      ],
      "metadata": {
        "id": "DlMOn3M1JhP0"
      }
    },
    {
      "cell_type": "code",
      "source": [
        "#df = spark.read.csv('Project 1_dataset.csv')"
      ],
      "metadata": {
        "id": "uuK_pAHQJkL9"
      },
      "execution_count": 163,
      "outputs": []
    },
    {
      "cell_type": "code",
      "execution_count": 164,
      "metadata": {
        "id": "N3QIn7ZW0voV"
      },
      "outputs": [],
      "source": [
        "rdd_dataset = spark.read.csv(\"Project 1_dataset.csv\").rdd"
      ]
    },
    {
      "cell_type": "code",
      "execution_count": 165,
      "metadata": {
        "colab": {
          "base_uri": "https://localhost:8080/"
        },
        "id": "NGKvNJaM0voY",
        "outputId": "a1b34f16-0b4a-410c-f9a6-1e86c2b7a008"
      },
      "outputs": [
        {
          "output_type": "stream",
          "name": "stdout",
          "text": [
            "root\n",
            " |-- age: integer (nullable = true)\n",
            " |-- job: string (nullable = true)\n",
            " |-- marital: string (nullable = true)\n",
            " |-- education: string (nullable = true)\n",
            " |-- default: integer (nullable = true)\n",
            " |-- balance: integer (nullable = true)\n",
            " |-- housing: integer (nullable = true)\n",
            " |-- loan: integer (nullable = true)\n",
            " |-- contact: string (nullable = true)\n",
            " |-- day: integer (nullable = true)\n",
            " |-- month: string (nullable = true)\n",
            " |-- duration: integer (nullable = true)\n",
            " |-- campaign: integer (nullable = true)\n",
            " |-- pdays: integer (nullable = true)\n",
            " |-- previous: integer (nullable = true)\n",
            " |-- poutcome: string (nullable = true)\n",
            " |-- deposit: integer (nullable = true)\n",
            "\n",
            "+---+-------+--------+---------+-------+-------+-------+----+---------+---+-----+--------+--------+-----+--------+-----------+-------+\n",
            "|age|    job| marital|education|default|balance|housing|loan|  contact|day|month|duration|campaign|pdays|previous|   poutcome|deposit|\n",
            "+---+-------+--------+---------+-------+-------+-------+----+---------+---+-----+--------+--------+-----+--------+-----------+-------+\n",
            "| 95|retired| married|secondary|      0|      0|      0|   0|telephone|  1|  oct|     215|       1|   -1|       0|    success|      1|\n",
            "| 93|retired| married|  unknown|      0|    775|      0|   0| cellular|  4|  aug|     476|       2|   13|       9|    success|      1|\n",
            "| 93|retired| married|  unknown|      0|    775|      0|   0| cellular| 22|  jul|     860|       2|  177|       7|    failure|      0|\n",
            "| 92|retired| married|  unknown|      0|    775|      0|   0| cellular| 22|  oct|     313|       3|   -1|       0|    failure|      0|\n",
            "| 92|retired| married|  unknown|      0|    775|      0|   0|telephone| 26|  jan|     164|       4|   96|       3|nonexistent|      0|\n",
            "| 89|retired| married| tertiary|      0|    553|      0|   0| cellular| 19|  aug|    2027|       5|   -1|       0|    success|      1|\n",
            "| 95|retired|divorced|  primary|      0|   2282|      0|   0|telephone| 21|  apr|     207|      17|   -1|       0|    failure|      0|\n",
            "| 94|retired|divorced|secondary|      0|   1234|      0|   0|telephone|  3|  mar|     212|       1|   -1|       0|    failure|      0|\n",
            "| 89|retired| married|  primary|      0|      0|      0|   0| cellular| 27|  sep|     157|       5|   -1|       0|    failure|      0|\n",
            "| 90|retired|divorced|secondary|      0|      1|      0|   0|telephone| 13|  feb|     152|       3|   -1|       0|nonexistent|      0|\n",
            "+---+-------+--------+---------+-------+-------+-------+----+---------+---+-----+--------+--------+-----+--------+-----------+-------+\n",
            "only showing top 10 rows\n",
            "\n"
          ]
        }
      ],
      "source": [
        "schema = StructType() \\\n",
        "      .add(\"age\",IntegerType(),True) \\\n",
        "      .add(\"job\",StringType(),True) \\\n",
        "      .add(\"marital\",StringType(),True) \\\n",
        "      .add(\"education\",StringType(),True) \\\n",
        "      .add(\"default\",IntegerType(),True) \\\n",
        "      .add(\"balance\",IntegerType(),True) \\\n",
        "      .add(\"housing\",IntegerType(),True) \\\n",
        "      .add(\"loan\",IntegerType(),True) \\\n",
        "      .add(\"contact\",StringType(),True) \\\n",
        "      .add(\"day\",IntegerType(),True) \\\n",
        "      .add(\"month\",StringType(),True) \\\n",
        "      .add(\"duration\",IntegerType(),True) \\\n",
        "      .add(\"campaign\",IntegerType(),True) \\\n",
        "      .add(\"pdays\",IntegerType(),True) \\\n",
        "      .add(\"previous\",IntegerType(),True) \\\n",
        "      .add(\"poutcome\",StringType(),True) \\\n",
        "      .add(\"deposit\",IntegerType(),True,)\n",
        "      \n",
        "spark_df = spark.read.format(\"csv\") \\\n",
        "      .option(\"header\", True) \\\n",
        "      .schema(schema) \\\n",
        "      .load(\"Project 1_dataset.csv\")\n",
        "spark_df.printSchema()\n",
        "spark_df.show(10)"
      ]
    },
    {
      "cell_type": "code",
      "source": [
        "schema = StructType() \\\n",
        "      .add(\"deposit\",IntegerType(),True,)\\\n",
        "      .add(\"age\",IntegerType(),True) \\\n",
        "      .add(\"marital\",IntegerType(),True)\n",
        "      \n",
        "      \n",
        "spark_df2 = spark.read.format(\"csv\") \\\n",
        "      .option(\"header\", True) \\\n",
        "      .schema(schema) \\\n",
        "      .load(\"Project 1_dataset2.csv\")\n",
        "spark_df2.printSchema()\n",
        "spark_df2.show(10)"
      ],
      "metadata": {
        "colab": {
          "base_uri": "https://localhost:8080/"
        },
        "id": "smCj3L8q1mvM",
        "outputId": "e5d77a36-b2ab-400a-fd0a-17f7610eb78d"
      },
      "execution_count": 166,
      "outputs": [
        {
          "output_type": "stream",
          "name": "stdout",
          "text": [
            "root\n",
            " |-- deposit: integer (nullable = true)\n",
            " |-- age: integer (nullable = true)\n",
            " |-- marital: integer (nullable = true)\n",
            "\n",
            "+-------+---+-------+\n",
            "|deposit|age|marital|\n",
            "+-------+---+-------+\n",
            "|      1| 95|      1|\n",
            "|      1| 93|      1|\n",
            "|      0| 93|      1|\n",
            "|      0| 92|      1|\n",
            "|      0| 92|      1|\n",
            "|      1| 89|      1|\n",
            "|      0| 95|      0|\n",
            "|      0| 94|      0|\n",
            "|      0| 89|      1|\n",
            "|      0| 90|      0|\n",
            "+-------+---+-------+\n",
            "only showing top 10 rows\n",
            "\n"
          ]
        }
      ]
    },
    {
      "cell_type": "markdown",
      "source": [
        "# Statistics\n",
        "<ol>\n",
        "  <li>Success Rate</li>\n",
        "  <li>Failure Rate</li>\n",
        "  <li>Max, Min and Avg Age of Targeted Customer</li>\n",
        "  <li>Average and Median Balance of Customers</li>\n",
        "  <li>Correlation between Age and Deposits</li>\n",
        "  <li>Correlation between Marital Status and Deposits</li>\n",
        "  <li>Marital Status and Age together mattered for Deposits</li>\n",
        "  <li>Right Age Effect for the Campaign</li>\n",
        "</ol>"
      ],
      "metadata": {
        "id": "7UWpBQaWXCnJ"
      }
    },
    {
      "cell_type": "markdown",
      "source": [
        "# 1. Success Rate"
      ],
      "metadata": {
        "id": "u22kYkQHKyK0"
      }
    },
    {
      "cell_type": "code",
      "source": [
        "spark_df.createOrReplaceTempView(\"dataset\")"
      ],
      "metadata": {
        "id": "tkkzaThDi1yJ"
      },
      "execution_count": 167,
      "outputs": []
    },
    {
      "cell_type": "code",
      "source": [
        "spark.sql(\"SELECT poutcome,COUNT(poutcome) as Total FROM dataset GROUP BY poutcome ORDER BY Total DESC\").show()"
      ],
      "metadata": {
        "colab": {
          "base_uri": "https://localhost:8080/"
        },
        "id": "M7m0usA7hzpp",
        "outputId": "c2c16724-14a6-4d70-e1f5-49e87afe8048"
      },
      "execution_count": 168,
      "outputs": [
        {
          "output_type": "stream",
          "name": "stdout",
          "text": [
            "+-----------+-----+\n",
            "|   poutcome|Total|\n",
            "+-----------+-----+\n",
            "|    success|15221|\n",
            "|    failure|15021|\n",
            "|nonexistent|14969|\n",
            "+-----------+-----+\n",
            "\n"
          ]
        }
      ]
    },
    {
      "cell_type": "code",
      "source": [
        "success_rate = 15221/(15021+14969+15221)*100\n",
        "print(success_rate,'%')"
      ],
      "metadata": {
        "colab": {
          "base_uri": "https://localhost:8080/"
        },
        "id": "gZDTJmqGHBDd",
        "outputId": "55ea7376-39fd-4bf7-8b28-f6e2faf3e485"
      },
      "execution_count": 169,
      "outputs": [
        {
          "output_type": "stream",
          "name": "stdout",
          "text": [
            "33.666585565459734 %\n"
          ]
        }
      ]
    },
    {
      "cell_type": "markdown",
      "source": [
        "# 2. Failure Rate"
      ],
      "metadata": {
        "id": "i6v01eLFK6qI"
      }
    },
    {
      "cell_type": "code",
      "source": [
        "spark_df.groupby('poutcome').count().show()"
      ],
      "metadata": {
        "colab": {
          "base_uri": "https://localhost:8080/"
        },
        "id": "xzi0iaXQFaej",
        "outputId": "e4123c38-ab7e-4add-88d7-ca945c551035"
      },
      "execution_count": 170,
      "outputs": [
        {
          "output_type": "stream",
          "name": "stdout",
          "text": [
            "+-----------+-----+\n",
            "|   poutcome|count|\n",
            "+-----------+-----+\n",
            "|    success|15221|\n",
            "|    failure|15021|\n",
            "|nonexistent|14969|\n",
            "+-----------+-----+\n",
            "\n"
          ]
        }
      ]
    },
    {
      "cell_type": "code",
      "source": [
        "failure_rate = 15021/(15021+14969+15221)*100\n",
        "print(failure_rate,'%')"
      ],
      "metadata": {
        "colab": {
          "base_uri": "https://localhost:8080/"
        },
        "id": "3l8L-GOwHtY_",
        "outputId": "89fd9310-32b0-4a2f-e70c-5c614bf31742"
      },
      "execution_count": 171,
      "outputs": [
        {
          "output_type": "stream",
          "name": "stdout",
          "text": [
            "33.22421534582292 %\n"
          ]
        }
      ]
    },
    {
      "cell_type": "markdown",
      "source": [
        "# Average By Month"
      ],
      "metadata": {
        "id": "013Ynm-RxGqJ"
      }
    },
    {
      "cell_type": "code",
      "source": [
        "spark_df.groupby('month').mean().show()"
      ],
      "metadata": {
        "colab": {
          "base_uri": "https://localhost:8080/"
        },
        "id": "qxS4GFJ1CR6J",
        "outputId": "84c67594-2f89-480f-d5c0-309e3782eabb"
      },
      "execution_count": 172,
      "outputs": [
        {
          "output_type": "stream",
          "name": "stdout",
          "text": [
            "+-----+------------------+--------------------+------------------+-------------------+-------------------+------------------+------------------+------------------+------------------+-------------------+-------------------+\n",
            "|month|          avg(age)|        avg(default)|      avg(balance)|       avg(housing)|          avg(loan)|          avg(day)|     avg(duration)|     avg(campaign)|        avg(pdays)|      avg(previous)|       avg(deposit)|\n",
            "+-----+------------------+--------------------+------------------+-------------------+-------------------+------------------+------------------+------------------+------------------+-------------------+-------------------+\n",
            "|  jun|42.438120202209326|0.020782624976596144|1608.2222430256506|0.41696311552143794|0.13742744804343757|11.399550645946452| 243.0878112712975|3.1353679086313426| 9.154465455907134|0.19790301441677588|0.33327092304811834|\n",
            "|  aug| 42.89450936449496|0.015527453177525212|1427.7017768528895|0.17656475108051864|0.09668640947654875|16.432687690091242|232.40211301424685|3.9273251160557066|  13.3289578997919| 0.2783736193372819| 0.3332799743877061|\n",
            "|  may| 38.89110852825803|0.017434258317594074| 1034.992590440215| 0.8772337643469418| 0.1447769867790208|15.491137585355222|260.92227226500074| 2.447551939561238| 52.15734418131628| 0.5849920092982711|0.34047653639401426|\n",
            "|  feb| 40.88523971309928| 0.01321253303133258| 1319.098905247263| 0.4273310683276708|0.14722536806342015| 6.354850887127218|248.29822574556437|2.3820309550773877| 68.70290675726689|  1.182710456776142| 0.3333333333333333|\n",
            "|  sep| 43.95854922279793|0.001727115716753...|1948.2918825561312|0.22279792746113988|0.05181347150259067| 11.86873920552677|292.25215889464596| 1.765112262521589|114.41796200345424| 1.8946459412780656|0.36614853195164077|\n",
            "|  mar|42.941299790356396|                 0.0|2046.2285115303982|0.23689727463312368|0.05450733752620545|14.134171907756814|244.40041928721175|2.2054507337526204| 71.22851153039832| 1.1886792452830188| 0.3333333333333333|\n",
            "|  oct| 45.89159891598916|                 0.0| 2312.371273712737|0.22628726287262874|0.07452574525745258| 17.77777777777778|288.30216802168025|1.5365853658536586| 84.35772357723577| 1.5447154471544715|0.36585365853658536|\n",
            "|  jul| 41.00884699057288| 0.03190717911530094| 900.0255257432923|0.48411892675852064| 0.3052936910804931|18.694271211022482| 267.9753444525018| 3.524437998549674| 8.032342277012328| 0.1299492385786802|0.33343002175489483|\n",
            "|  nov| 42.05793450881612| 0.02065491183879093|2512.9329974811085| 0.5576826196473552|0.18287153652392948|18.383627204030226|253.14861460957178|1.9181360201511335|  42.7448362720403| 0.8614609571788413| 0.3357682619647355|\n",
            "|  apr| 39.77080491132333|0.003751705320600273|1542.5511596180081| 0.7056616643929059|0.12210095497953616|17.317189631650752|298.09890859481584|1.9553206002728514| 95.20190995907231| 1.0525238744884038|0.33321964529331516|\n",
            "|  dec| 44.45794392523364|                 0.0|2315.6728971962616|0.19158878504672897| 0.0514018691588785|14.434579439252337|329.32710280373834| 2.196261682242991| 108.7803738317757| 1.8037383177570094| 0.3364485981308411|\n",
            "|  jan| 40.49322879543835|0.012829650748396294|  946.783321454027| 0.3713471133285816| 0.1511047754811119| 27.45687811831789| 268.2202423378475|1.6721311475409837| 67.89807555238774| 1.1853171774768354| 0.3328581610833927|\n",
            "+-----+------------------+--------------------+------------------+-------------------+-------------------+------------------+------------------+------------------+------------------+-------------------+-------------------+\n",
            "\n"
          ]
        }
      ]
    },
    {
      "cell_type": "markdown",
      "source": [
        "# 3. MAX, MIN and AVG Ages"
      ],
      "metadata": {
        "id": "mSXgJfbGLGHP"
      }
    },
    {
      "cell_type": "code",
      "source": [
        "spark.sql(\"SELECT MAX(age) FROM dataset\").show()"
      ],
      "metadata": {
        "colab": {
          "base_uri": "https://localhost:8080/"
        },
        "id": "hLqi_RebIJh0",
        "outputId": "da386dbd-fef9-4255-db84-05cdc71fbcee"
      },
      "execution_count": 173,
      "outputs": [
        {
          "output_type": "stream",
          "name": "stdout",
          "text": [
            "+--------+\n",
            "|max(age)|\n",
            "+--------+\n",
            "|      95|\n",
            "+--------+\n",
            "\n"
          ]
        }
      ]
    },
    {
      "cell_type": "code",
      "source": [
        "spark.sql(\"SELECT MIN(age) FROM dataset\").show()"
      ],
      "metadata": {
        "colab": {
          "base_uri": "https://localhost:8080/"
        },
        "id": "clholBqDKbJc",
        "outputId": "81d988d8-ca49-491a-f99b-4ebf225d2ebc"
      },
      "execution_count": 174,
      "outputs": [
        {
          "output_type": "stream",
          "name": "stdout",
          "text": [
            "+--------+\n",
            "|min(age)|\n",
            "+--------+\n",
            "|      18|\n",
            "+--------+\n",
            "\n"
          ]
        }
      ]
    },
    {
      "cell_type": "code",
      "source": [
        "spark.sql(\"SELECT AVG(age) FROM dataset\").show()"
      ],
      "metadata": {
        "colab": {
          "base_uri": "https://localhost:8080/"
        },
        "id": "RDfgtLCjKjOH",
        "outputId": "8c450148-2d72-4b71-e169-cf7f343a3b8c"
      },
      "execution_count": 175,
      "outputs": [
        {
          "output_type": "stream",
          "name": "stdout",
          "text": [
            "+-----------------+\n",
            "|         avg(age)|\n",
            "+-----------------+\n",
            "|40.93621021432837|\n",
            "+-----------------+\n",
            "\n"
          ]
        }
      ]
    },
    {
      "cell_type": "markdown",
      "source": [
        "# 4. AVG and Median Balances"
      ],
      "metadata": {
        "id": "JlAkyZIHLsry"
      }
    },
    {
      "cell_type": "code",
      "source": [
        "spark.sql(\"SELECT AVG(balance) FROM dataset\").show()"
      ],
      "metadata": {
        "colab": {
          "base_uri": "https://localhost:8080/"
        },
        "id": "db9fdKUxLp6i",
        "outputId": "348a5917-a01f-4b06-b61d-416672e43d4f"
      },
      "execution_count": 176,
      "outputs": [
        {
          "output_type": "stream",
          "name": "stdout",
          "text": [
            "+------------------+\n",
            "|      avg(balance)|\n",
            "+------------------+\n",
            "|1362.2720576850766|\n",
            "+------------------+\n",
            "\n"
          ]
        }
      ]
    },
    {
      "cell_type": "code",
      "source": [
        "spark_df.approxQuantile(\"balance\", [0.5], 0)"
      ],
      "metadata": {
        "colab": {
          "base_uri": "https://localhost:8080/"
        },
        "id": "RWTSRQo7MngP",
        "outputId": "9f11e7e0-c0d2-4f9c-d452-fe7f86633bc1"
      },
      "execution_count": 177,
      "outputs": [
        {
          "output_type": "execute_result",
          "data": {
            "text/plain": [
              "[448.0]"
            ]
          },
          "metadata": {},
          "execution_count": 177
        }
      ]
    },
    {
      "cell_type": "markdown",
      "source": [
        "# 5. Correlation between Balance and Deposits"
      ],
      "metadata": {
        "id": "dld5y59vUxBW"
      }
    },
    {
      "cell_type": "code",
      "source": [
        "spark_df.corr('balance','deposit')"
      ],
      "metadata": {
        "colab": {
          "base_uri": "https://localhost:8080/"
        },
        "id": "8HBOaB0a-18R",
        "outputId": "ad44fc4e-b46f-4034-f0ad-acd3cecc2700"
      },
      "execution_count": 178,
      "outputs": [
        {
          "output_type": "execute_result",
          "data": {
            "text/plain": [
              "-0.001253202290976878"
            ]
          },
          "metadata": {},
          "execution_count": 178
        }
      ]
    },
    {
      "cell_type": "markdown",
      "source": [
        "# 6. Correlation between Marital Status and Deposits"
      ],
      "metadata": {
        "id": "zGGw50bmVmCc"
      }
    },
    {
      "cell_type": "code",
      "source": [
        "spark.sql(\"SELECT marital, COUNT(deposit) as Total_of_deposits FROM dataset WHERE deposit=1 GROUP BY marital ORDER BY Total_of_deposits DESC\").show()"
      ],
      "metadata": {
        "colab": {
          "base_uri": "https://localhost:8080/"
        },
        "id": "T8127AHCfIi_",
        "outputId": "40013e93-ea8d-48e3-e245-40189c02960b"
      },
      "execution_count": 179,
      "outputs": [
        {
          "output_type": "stream",
          "name": "stdout",
          "text": [
            "+--------+-----------------+\n",
            "| marital|Total_of_deposits|\n",
            "+--------+-----------------+\n",
            "| married|             9149|\n",
            "|  single|             4318|\n",
            "|divorced|             1754|\n",
            "+--------+-----------------+\n",
            "\n"
          ]
        }
      ]
    },
    {
      "cell_type": "markdown",
      "source": [
        "# 7. Marital Status and Age together mattered for Deposits"
      ],
      "metadata": {
        "id": "Qdg1ieg-V6j6"
      }
    },
    {
      "cell_type": "code",
      "source": [
        "spark_df2.corr('age','deposit')"
      ],
      "metadata": {
        "colab": {
          "base_uri": "https://localhost:8080/"
        },
        "id": "Q1hsFG-63L2n",
        "outputId": "ae9a20ba-dc28-4ab1-8eb4-3112fe9db51e"
      },
      "execution_count": 180,
      "outputs": [
        {
          "output_type": "execute_result",
          "data": {
            "text/plain": [
              "-0.0011683102615502072"
            ]
          },
          "metadata": {},
          "execution_count": 180
        }
      ]
    },
    {
      "cell_type": "code",
      "source": [
        "from pyspark.sql.functions import col\n",
        "new_data = spark_df2.select(*(col(c).cast(\"float\") for c in spark_df2.columns))\n",
        "new_data.show(10)"
      ],
      "metadata": {
        "colab": {
          "base_uri": "https://localhost:8080/"
        },
        "id": "zchKuavV2EoZ",
        "outputId": "630df457-dd66-4315-8961-ec8144983d13"
      },
      "execution_count": 181,
      "outputs": [
        {
          "output_type": "stream",
          "name": "stdout",
          "text": [
            "+-------+----+-------+\n",
            "|deposit| age|marital|\n",
            "+-------+----+-------+\n",
            "|    1.0|95.0|    1.0|\n",
            "|    1.0|93.0|    1.0|\n",
            "|    0.0|93.0|    1.0|\n",
            "|    0.0|92.0|    1.0|\n",
            "|    0.0|92.0|    1.0|\n",
            "|    1.0|89.0|    1.0|\n",
            "|    0.0|95.0|    0.0|\n",
            "|    0.0|94.0|    0.0|\n",
            "|    0.0|89.0|    1.0|\n",
            "|    0.0|90.0|    0.0|\n",
            "+-------+----+-------+\n",
            "only showing top 10 rows\n",
            "\n"
          ]
        }
      ]
    },
    {
      "cell_type": "code",
      "source": [
        "col_names = new_data.columns"
      ],
      "metadata": {
        "id": "eZ1P0CVW83Lu"
      },
      "execution_count": 182,
      "outputs": []
    },
    {
      "cell_type": "code",
      "source": [
        "new_data_rdd = new_data.rdd.map(lambda row: row[0:])"
      ],
      "metadata": {
        "id": "ZJnFj6Xq5xhn"
      },
      "execution_count": 183,
      "outputs": []
    },
    {
      "cell_type": "code",
      "source": [
        "corr_mat=Statistics.corr(new_data_rdd, method=\"pearson\")\n",
        "corr_df = pd.DataFrame(corr_mat)\n",
        "corr_df.index, corr_df.columns = col_names, col_names\n",
        "corr_df"
      ],
      "metadata": {
        "colab": {
          "base_uri": "https://localhost:8080/",
          "height": 143
        },
        "id": "OWOZYbNh5-v1",
        "outputId": "e32eb690-7656-4bd2-f016-7cbd642ab4c3"
      },
      "execution_count": 184,
      "outputs": [
        {
          "output_type": "execute_result",
          "data": {
            "text/html": [
              "\n",
              "  <div id=\"df-f0908f2e-d6c1-4476-b839-f6f4e057508a\">\n",
              "    <div class=\"colab-df-container\">\n",
              "      <div>\n",
              "<style scoped>\n",
              "    .dataframe tbody tr th:only-of-type {\n",
              "        vertical-align: middle;\n",
              "    }\n",
              "\n",
              "    .dataframe tbody tr th {\n",
              "        vertical-align: top;\n",
              "    }\n",
              "\n",
              "    .dataframe thead th {\n",
              "        text-align: right;\n",
              "    }\n",
              "</style>\n",
              "<table border=\"1\" class=\"dataframe\">\n",
              "  <thead>\n",
              "    <tr style=\"text-align: right;\">\n",
              "      <th></th>\n",
              "      <th>deposit</th>\n",
              "      <th>age</th>\n",
              "      <th>marital</th>\n",
              "    </tr>\n",
              "  </thead>\n",
              "  <tbody>\n",
              "    <tr>\n",
              "      <th>deposit</th>\n",
              "      <td>1.000000</td>\n",
              "      <td>-0.001168</td>\n",
              "      <td>-0.001245</td>\n",
              "    </tr>\n",
              "    <tr>\n",
              "      <th>age</th>\n",
              "      <td>-0.001168</td>\n",
              "      <td>1.000000</td>\n",
              "      <td>0.286257</td>\n",
              "    </tr>\n",
              "    <tr>\n",
              "      <th>marital</th>\n",
              "      <td>-0.001245</td>\n",
              "      <td>0.286257</td>\n",
              "      <td>1.000000</td>\n",
              "    </tr>\n",
              "  </tbody>\n",
              "</table>\n",
              "</div>\n",
              "      <button class=\"colab-df-convert\" onclick=\"convertToInteractive('df-f0908f2e-d6c1-4476-b839-f6f4e057508a')\"\n",
              "              title=\"Convert this dataframe to an interactive table.\"\n",
              "              style=\"display:none;\">\n",
              "        \n",
              "  <svg xmlns=\"http://www.w3.org/2000/svg\" height=\"24px\"viewBox=\"0 0 24 24\"\n",
              "       width=\"24px\">\n",
              "    <path d=\"M0 0h24v24H0V0z\" fill=\"none\"/>\n",
              "    <path d=\"M18.56 5.44l.94 2.06.94-2.06 2.06-.94-2.06-.94-.94-2.06-.94 2.06-2.06.94zm-11 1L8.5 8.5l.94-2.06 2.06-.94-2.06-.94L8.5 2.5l-.94 2.06-2.06.94zm10 10l.94 2.06.94-2.06 2.06-.94-2.06-.94-.94-2.06-.94 2.06-2.06.94z\"/><path d=\"M17.41 7.96l-1.37-1.37c-.4-.4-.92-.59-1.43-.59-.52 0-1.04.2-1.43.59L10.3 9.45l-7.72 7.72c-.78.78-.78 2.05 0 2.83L4 21.41c.39.39.9.59 1.41.59.51 0 1.02-.2 1.41-.59l7.78-7.78 2.81-2.81c.8-.78.8-2.07 0-2.86zM5.41 20L4 18.59l7.72-7.72 1.47 1.35L5.41 20z\"/>\n",
              "  </svg>\n",
              "      </button>\n",
              "      \n",
              "  <style>\n",
              "    .colab-df-container {\n",
              "      display:flex;\n",
              "      flex-wrap:wrap;\n",
              "      gap: 12px;\n",
              "    }\n",
              "\n",
              "    .colab-df-convert {\n",
              "      background-color: #E8F0FE;\n",
              "      border: none;\n",
              "      border-radius: 50%;\n",
              "      cursor: pointer;\n",
              "      display: none;\n",
              "      fill: #1967D2;\n",
              "      height: 32px;\n",
              "      padding: 0 0 0 0;\n",
              "      width: 32px;\n",
              "    }\n",
              "\n",
              "    .colab-df-convert:hover {\n",
              "      background-color: #E2EBFA;\n",
              "      box-shadow: 0px 1px 2px rgba(60, 64, 67, 0.3), 0px 1px 3px 1px rgba(60, 64, 67, 0.15);\n",
              "      fill: #174EA6;\n",
              "    }\n",
              "\n",
              "    [theme=dark] .colab-df-convert {\n",
              "      background-color: #3B4455;\n",
              "      fill: #D2E3FC;\n",
              "    }\n",
              "\n",
              "    [theme=dark] .colab-df-convert:hover {\n",
              "      background-color: #434B5C;\n",
              "      box-shadow: 0px 1px 3px 1px rgba(0, 0, 0, 0.15);\n",
              "      filter: drop-shadow(0px 1px 2px rgba(0, 0, 0, 0.3));\n",
              "      fill: #FFFFFF;\n",
              "    }\n",
              "  </style>\n",
              "\n",
              "      <script>\n",
              "        const buttonEl =\n",
              "          document.querySelector('#df-f0908f2e-d6c1-4476-b839-f6f4e057508a button.colab-df-convert');\n",
              "        buttonEl.style.display =\n",
              "          google.colab.kernel.accessAllowed ? 'block' : 'none';\n",
              "\n",
              "        async function convertToInteractive(key) {\n",
              "          const element = document.querySelector('#df-f0908f2e-d6c1-4476-b839-f6f4e057508a');\n",
              "          const dataTable =\n",
              "            await google.colab.kernel.invokeFunction('convertToInteractive',\n",
              "                                                     [key], {});\n",
              "          if (!dataTable) return;\n",
              "\n",
              "          const docLinkHtml = 'Like what you see? Visit the ' +\n",
              "            '<a target=\"_blank\" href=https://colab.research.google.com/notebooks/data_table.ipynb>data table notebook</a>'\n",
              "            + ' to learn more about interactive tables.';\n",
              "          element.innerHTML = '';\n",
              "          dataTable['output_type'] = 'display_data';\n",
              "          await google.colab.output.renderOutput(dataTable, element);\n",
              "          const docLink = document.createElement('div');\n",
              "          docLink.innerHTML = docLinkHtml;\n",
              "          element.appendChild(docLink);\n",
              "        }\n",
              "      </script>\n",
              "    </div>\n",
              "  </div>\n",
              "  "
            ],
            "text/plain": [
              "          deposit       age   marital\n",
              "deposit  1.000000 -0.001168 -0.001245\n",
              "age     -0.001168  1.000000  0.286257\n",
              "marital -0.001245  0.286257  1.000000"
            ]
          },
          "metadata": {},
          "execution_count": 184
        }
      ]
    },
    {
      "cell_type": "code",
      "source": [
        "spark.sql(\"SELECT age, COUNT(deposit) as Total_of_deposits FROM dataset WHERE deposit=1 GROUP BY age ORDER BY Total_of_deposits DESC\").show(10)\n",
        "spark.sql(\"SELECT marital, COUNT(deposit) as Total_of_deposits FROM dataset WHERE deposit=1 GROUP BY marital ORDER BY Total_of_deposits DESC\").show(10)"
      ],
      "metadata": {
        "colab": {
          "base_uri": "https://localhost:8080/"
        },
        "id": "PXLs8cvOf3Ml",
        "outputId": "506792d4-8c10-4740-e861-84732a88c1d8"
      },
      "execution_count": 185,
      "outputs": [
        {
          "output_type": "stream",
          "name": "stdout",
          "text": [
            "+---+-----------------+\n",
            "|age|Total_of_deposits|\n",
            "+---+-----------------+\n",
            "| 32|              702|\n",
            "| 34|              670|\n",
            "| 31|              657|\n",
            "| 33|              645|\n",
            "| 35|              643|\n",
            "| 36|              627|\n",
            "| 37|              568|\n",
            "| 30|              560|\n",
            "| 39|              503|\n",
            "| 38|              460|\n",
            "+---+-----------------+\n",
            "only showing top 10 rows\n",
            "\n",
            "+--------+-----------------+\n",
            "| marital|Total_of_deposits|\n",
            "+--------+-----------------+\n",
            "| married|             9149|\n",
            "|  single|             4318|\n",
            "|divorced|             1754|\n",
            "+--------+-----------------+\n",
            "\n"
          ]
        }
      ]
    },
    {
      "cell_type": "markdown",
      "source": [
        "# 8. Right Age Effect for the Campaign"
      ],
      "metadata": {
        "id": "Z616mYOBV-jq"
      }
    },
    {
      "cell_type": "code",
      "source": [
        "spark.sql(\"SELECT age,AVG(balance),COUNT(deposit) as Total_of_deposits,AVG(balance)*COUNT(deposit) as TOTAL FROM dataset WHERE deposit=1 GROUP BY age ORDER BY age ASC\").show(10)"
      ],
      "metadata": {
        "colab": {
          "base_uri": "https://localhost:8080/"
        },
        "id": "o_rfQ9HeW-zj",
        "outputId": "fcd080a9-073a-43a1-9fd7-07269be06d12"
      },
      "execution_count": 186,
      "outputs": [
        {
          "output_type": "stream",
          "name": "stdout",
          "text": [
            "+---+------------------+-----------------+--------+\n",
            "|age|      avg(balance)|Total_of_deposits|   TOTAL|\n",
            "+---+------------------+-----------------+--------+\n",
            "| 18| 415.1666666666667|                6|  2491.0|\n",
            "| 19|             707.0|                9|  6363.0|\n",
            "| 20| 369.7391304347826|               23|  8504.0|\n",
            "| 21|1133.9166666666667|               24| 27214.0|\n",
            "| 22| 867.9591836734694|               49| 42530.0|\n",
            "| 23|1307.6716417910447|               67| 87614.0|\n",
            "| 24|1107.2522522522522|              111|122905.0|\n",
            "| 25| 914.2272727272727|              198|181017.0|\n",
            "| 26|1024.0212765957447|              282|288774.0|\n",
            "| 27| 1185.715210355987|              309|366386.0|\n",
            "+---+------------------+-----------------+--------+\n",
            "only showing top 10 rows\n",
            "\n"
          ]
        }
      ]
    },
    {
      "cell_type": "code",
      "source": [
        "data['Total_deposits']=data['balance']*data['deposit']\n",
        "\n",
        "plt.bar(data['age'],data['Total_deposits'])\n",
        "plt.show()"
      ],
      "metadata": {
        "colab": {
          "base_uri": "https://localhost:8080/",
          "height": 265
        },
        "id": "X-VkhE76DGJK",
        "outputId": "73a32ac3-6966-47df-b9c9-c3afa769c059"
      },
      "execution_count": 187,
      "outputs": [
        {
          "output_type": "display_data",
          "data": {
            "image/png": "[encoded data removed]",
            "text/plain": [
              "<Figure size 432x288 with 1 Axes>"
            ]
          },
          "metadata": {
            "needs_background": "light"
          }
        }
      ]
    }
  ],
  "metadata": {
    "kernelspec": {
      "display_name": "Python 3",
      "language": "python",
      "name": "python3"
    },
    "language_info": {
      "codemirror_mode": {
        "name": "ipython",
        "version": 3
      },
      "file_extension": ".py",
      "mimetype": "text/x-python",
      "name": "python",
      "nbconvert_exporter": "python",
      "pygments_lexer": "ipython3",
      "version": "3.6.4"
    },
    "colab": {
      "name": "ASSESSMENT_1.ipynb",
      "provenance": [],
      "collapsed_sections": [
        "lj0IbYzPJYeu",
        "DlMOn3M1JhP0",
        "u22kYkQHKyK0",
        "i6v01eLFK6qI",
        "013Ynm-RxGqJ",
        "mSXgJfbGLGHP",
        "JlAkyZIHLsry",
        "dld5y59vUxBW",
        "zGGw50bmVmCc",
        "Qdg1ieg-V6j6"
      ]
    }
  },
  "nbformat": 4,
  "nbformat_minor": 0
}